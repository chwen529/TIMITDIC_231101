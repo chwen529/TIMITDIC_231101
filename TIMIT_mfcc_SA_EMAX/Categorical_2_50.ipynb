{
 "cells": [
  {
   "cell_type": "code",
   "execution_count": 4,
   "id": "greatest-health",
   "metadata": {},
   "outputs": [],
   "source": [
    "import os\n",
    "import numpy as np\n",
    "import datetime\n",
    "from tensorflow_core.python.keras.callbacks import EarlyStopping\n",
    "from keras.utils import np_utils\n",
    "from keras.models import Sequential\n",
    "from keras.layers import Dense, Dropout, Conv2D, MaxPooling2D, Flatten\n",
    "import matplotlib.pyplot as plt\n",
    "import pandas as pd\n",
    "# import tensorflow.compat.v1\n",
    "from keras.layers import Activation\n",
    "from keras.utils.generic_utils import get_custom_objects   # 自定義gelu\n",
    "import tensorflow as tf\n",
    "\n",
    "np.random.seed(10)"
   ]
  },
  {
   "cell_type": "code",
   "execution_count": 5,
   "id": "disabled-brother",
   "metadata": {},
   "outputs": [],
   "source": [
    "sentence_type = 'SA1'\n",
    "# sentence_type = 'SA2'\n",
    "# sentence_type = 'SA'\n",
    "\n",
    "Tr_ver = 'orig_12_1_DR25_M_'\n",
    "Te_ver = 'orig_12_1_DR25_M_'\n",
    "\n",
    "# Tr_ver = 'pe_12_1_DR25_M_'\n",
    "# Te_ver = 'pe_12_1_DR25_M_'\n",
    "\n",
    "# Tr_ver = 'orig_2612_1_DR25_M_'\n",
    "# Te_ver = 'orig_2612_1_DR25_M_'\n",
    "\n",
    "# Tr_ver = 'pe_2612_1_DR25_M_'\n",
    "# Te_ver = 'pe_2612_1_DR25_M_'\n",
    "\n",
    "Tr_ver += sentence_type + '_'\n",
    "Te_ver += sentence_type + '_'\n",
    "\n",
    "shape = 12\n",
    "\n",
    "now_path = r'D:\\TIMITDIC_231101'\n",
    "data_path = now_path + '_data'\n",
    "\n",
    "Tr_CDF_path = os.path.join(data_path, 'TRAIN', 'cnn_dataset_EMAX')\n",
    "Te_CDF_path = os.path.join(data_path, 'TEST', 'cnn_dataset_EMAX')\n",
    "\n",
    "Tr_DS_path = os.path.join(Tr_CDF_path, 'logEnergyFB', Tr_ver + 'SoundDataset.npz')\n",
    "# Tr_DS_path = os.path.join(Tr_CDF_path, 'mfcc', Tr_ver + 'SoundDataset.npz')\n",
    "# Tr_DS_path = os.path.join(Tr_CDF_path, 'mix', Tr_ver + 'SoundDataset.npz')\n",
    "\n",
    "Te_DS_path = os.path.join(Te_CDF_path, 'logEnergyFB', Tr_ver + 'SoundDataset.npz')\n",
    "# Te_DS_path = os.path.join(Te_CDF_path, 'mfcc', Tr_ver + 'SoundDataset.npz')\n",
    "# Te_DS_path = os.path.join(Te_CDF_path, 'mix', Te_ver + 'SoundDataset.npz')"
   ]
  },
  {
   "cell_type": "code",
   "execution_count": 6,
   "id": "funky-fence",
   "metadata": {},
   "outputs": [],
   "source": [
    "Tr_DS = np.load(Tr_DS_path)\n",
    "Te_DS = np.load(Te_DS_path)\n",
    "\n",
    "train_value, train_label = Tr_DS['TrainValue'], Tr_DS['TrainLabel_type']\n",
    "test_value, test_label = Te_DS['TestValue'], Te_DS['TestLabel_type']\n",
    "\n",
    "train_value_4D = train_value.reshape(train_value.shape[0], shape, shape, 1).astype('float32')\n",
    "test_value_4D = test_value.reshape(test_value.shape[0], shape, shape, 1).astype('float32')\n",
    "\n",
    "# 向量轉換為二進制(只有0和1)的矩陣類型\n",
    "# 但train_label、test_label原先資料就都是0跟1?\n",
    "train_label_OneHot = np_utils.to_categorical(train_label)\n",
    "test_label_OneHot = np_utils.to_categorical(test_label)"
   ]
  },
  {
   "cell_type": "code",
   "execution_count": 7,
   "id": "sonic-science",
   "metadata": {},
   "outputs": [
    {
     "name": "stdout",
     "output_type": "stream",
     "text": [
      "WARNING:tensorflow:From C:\\Users\\chwen\\anaconda3\\envs\\TF-1-15-GPU\\lib\\site-packages\\keras\\backend\\tensorflow_backend.py:68: The name tf.get_default_graph is deprecated. Please use tf.compat.v1.get_default_graph instead.\n",
      "\n",
      "WARNING:tensorflow:From C:\\Users\\chwen\\anaconda3\\envs\\TF-1-15-GPU\\lib\\site-packages\\keras\\backend\\tensorflow_backend.py:504: The name tf.placeholder is deprecated. Please use tf.compat.v1.placeholder instead.\n",
      "\n",
      "WARNING:tensorflow:From C:\\Users\\chwen\\anaconda3\\envs\\TF-1-15-GPU\\lib\\site-packages\\keras\\backend\\tensorflow_backend.py:3828: The name tf.random_uniform is deprecated. Please use tf.random.uniform instead.\n",
      "\n",
      "WARNING:tensorflow:From C:\\Users\\chwen\\anaconda3\\envs\\TF-1-15-GPU\\lib\\site-packages\\keras\\backend\\tensorflow_backend.py:3652: The name tf.nn.max_pool is deprecated. Please use tf.nn.max_pool2d instead.\n",
      "\n",
      "WARNING:tensorflow:From C:\\Users\\chwen\\anaconda3\\envs\\TF-1-15-GPU\\lib\\site-packages\\keras\\backend\\tensorflow_backend.py:126: The name tf.placeholder_with_default is deprecated. Please use tf.compat.v1.placeholder_with_default instead.\n",
      "\n",
      "WARNING:tensorflow:From C:\\Users\\chwen\\anaconda3\\envs\\TF-1-15-GPU\\lib\\site-packages\\keras\\backend\\tensorflow_backend.py:3135: calling dropout (from tensorflow.python.ops.nn_ops) with keep_prob is deprecated and will be removed in a future version.\n",
      "Instructions for updating:\n",
      "Please use `rate` instead of `keep_prob`. Rate should be set to `rate = 1 - keep_prob`.\n"
     ]
    }
   ],
   "source": [
    "model = Sequential()\n",
    "model.add(Conv2D(64, (3, 3), input_shape=(shape, shape, 1), padding='same', activation='relu'))\n",
    "model.add(Conv2D(64, (3, 3), padding='same', activation='relu'))\n",
    "model.add(MaxPooling2D(pool_size=(2,2)))\n",
    "model.add(Dropout(0.5))\n",
    "\n",
    "model.add(Conv2D(128, (3, 3), padding='same', activation='relu'))\n",
    "model.add(Conv2D(128, (3, 3), padding='same', activation='relu'))\n",
    "model.add(MaxPooling2D(pool_size=(2, 2)))\n",
    "model.add(Dropout(0.5))\n",
    "\n",
    "model.add(Flatten())\n",
    "# model.add(Dense(1024, activation='relu'))\n",
    "# model.add(Dropout(0.5))\n",
    "# model.add(Dense(512, activation='relu'))\n",
    "# model.add(Dropout(0.5))\n",
    "model.add(Dense(256, activation='relu'))\n",
    "model.add(Dropout(0.5))\n",
    "# model.add(Dense(128, activation='relu'))\n",
    "# model.add(Dropout(0.5))\n",
    "# model.add(Dense(64, activation='relu'))\n",
    "# model.add(Dropout(0.5))\n",
    "model.add(Dense(2, activation='softmax'))"
   ]
  },
  {
   "cell_type": "code",
   "execution_count": 8,
   "id": "adjustable-fitness",
   "metadata": {},
   "outputs": [
    {
     "name": "stdout",
     "output_type": "stream",
     "text": [
      "_________________________________________________________________\n",
      "Layer (type)                 Output Shape              Param #   \n",
      "=================================================================\n",
      "conv2d_1 (Conv2D)            (None, 12, 12, 64)        640       \n",
      "_________________________________________________________________\n",
      "conv2d_2 (Conv2D)            (None, 12, 12, 64)        36928     \n",
      "_________________________________________________________________\n",
      "max_pooling2d_1 (MaxPooling2 (None, 6, 6, 64)          0         \n",
      "_________________________________________________________________\n",
      "dropout_1 (Dropout)          (None, 6, 6, 64)          0         \n",
      "_________________________________________________________________\n",
      "conv2d_3 (Conv2D)            (None, 6, 6, 128)         73856     \n",
      "_________________________________________________________________\n",
      "conv2d_4 (Conv2D)            (None, 6, 6, 128)         147584    \n",
      "_________________________________________________________________\n",
      "max_pooling2d_2 (MaxPooling2 (None, 3, 3, 128)         0         \n",
      "_________________________________________________________________\n",
      "dropout_2 (Dropout)          (None, 3, 3, 128)         0         \n",
      "_________________________________________________________________\n",
      "flatten_1 (Flatten)          (None, 1152)              0         \n",
      "_________________________________________________________________\n",
      "dense_1 (Dense)              (None, 256)               295168    \n",
      "_________________________________________________________________\n",
      "dropout_3 (Dropout)          (None, 256)               0         \n",
      "_________________________________________________________________\n",
      "dense_2 (Dense)              (None, 2)                 514       \n",
      "=================================================================\n",
      "Total params: 554,690\n",
      "Trainable params: 554,690\n",
      "Non-trainable params: 0\n",
      "_________________________________________________________________\n",
      "WARNING:tensorflow:From C:\\Users\\chwen\\anaconda3\\envs\\TF-1-15-GPU\\lib\\site-packages\\keras\\optimizers.py:752: The name tf.train.Optimizer is deprecated. Please use tf.compat.v1.train.Optimizer instead.\n",
      "\n",
      "WARNING:tensorflow:From C:\\Users\\chwen\\anaconda3\\envs\\TF-1-15-GPU\\lib\\site-packages\\keras\\backend\\tensorflow_backend.py:3066: The name tf.log is deprecated. Please use tf.math.log instead.\n",
      "\n",
      "WARNING:tensorflow:From C:\\Users\\chwen\\anaconda3\\envs\\TF-1-15-GPU\\lib\\site-packages\\tensorflow_core\\python\\ops\\nn_impl.py:183: where (from tensorflow.python.ops.array_ops) is deprecated and will be removed in a future version.\n",
      "Instructions for updating:\n",
      "Use tf.where in 2.0, which has the same broadcast rule as np.where\n"
     ]
    }
   ],
   "source": [
    "model.summary()\n",
    "model.compile(loss='binary_crossentropy',  # mean_squared_error, binary_crossentropy, categorical_crossentropy\n",
    "              optimizer=\"adam\",  # sgd, rmsprop, adam\n",
    "              metrics=['accuracy'])"
   ]
  },
  {
   "cell_type": "code",
   "execution_count": 9,
   "id": "conceptual-participant",
   "metadata": {
    "scrolled": false
   },
   "outputs": [
    {
     "ename": "ValueError",
     "evalue": "Error when checking target: expected dense_2 to have shape (2,) but got array with shape (1,)",
     "output_type": "error",
     "traceback": [
      "\u001B[1;31m---------------------------------------------------------------------------\u001B[0m",
      "\u001B[1;31mValueError\u001B[0m                                Traceback (most recent call last)",
      "\u001B[1;32m~\\AppData\\Local\\Temp\\ipykernel_23804\\1003749868.py\u001B[0m in \u001B[0;36m<module>\u001B[1;34m\u001B[0m\n\u001B[0;32m      4\u001B[0m                         \u001B[0mepochs\u001B[0m\u001B[1;33m=\u001B[0m\u001B[1;36m100\u001B[0m\u001B[1;33m,\u001B[0m\u001B[1;33m\u001B[0m\u001B[1;33m\u001B[0m\u001B[0m\n\u001B[0;32m      5\u001B[0m                         \u001B[0mbatch_size\u001B[0m\u001B[1;33m=\u001B[0m\u001B[1;36m150\u001B[0m\u001B[1;33m,\u001B[0m\u001B[1;33m\u001B[0m\u001B[1;33m\u001B[0m\u001B[0m\n\u001B[1;32m----> 6\u001B[1;33m                         verbose=2)\n\u001B[0m\u001B[0;32m      7\u001B[0m \u001B[1;33m\u001B[0m\u001B[0m\n",
      "\u001B[1;32m~\\anaconda3\\envs\\TF-1-15-GPU\\lib\\site-packages\\keras\\models.py\u001B[0m in \u001B[0;36mfit\u001B[1;34m(self, x, y, batch_size, epochs, verbose, callbacks, validation_split, validation_data, shuffle, class_weight, sample_weight, initial_epoch, steps_per_epoch, validation_steps, **kwargs)\u001B[0m\n\u001B[0;32m    961\u001B[0m                               \u001B[0minitial_epoch\u001B[0m\u001B[1;33m=\u001B[0m\u001B[0minitial_epoch\u001B[0m\u001B[1;33m,\u001B[0m\u001B[1;33m\u001B[0m\u001B[1;33m\u001B[0m\u001B[0m\n\u001B[0;32m    962\u001B[0m                               \u001B[0msteps_per_epoch\u001B[0m\u001B[1;33m=\u001B[0m\u001B[0msteps_per_epoch\u001B[0m\u001B[1;33m,\u001B[0m\u001B[1;33m\u001B[0m\u001B[1;33m\u001B[0m\u001B[0m\n\u001B[1;32m--> 963\u001B[1;33m                               validation_steps=validation_steps)\n\u001B[0m\u001B[0;32m    964\u001B[0m \u001B[1;33m\u001B[0m\u001B[0m\n\u001B[0;32m    965\u001B[0m     def evaluate(self, x=None, y=None,\n",
      "\u001B[1;32m~\\anaconda3\\envs\\TF-1-15-GPU\\lib\\site-packages\\keras\\engine\\training.py\u001B[0m in \u001B[0;36mfit\u001B[1;34m(self, x, y, batch_size, epochs, verbose, callbacks, validation_split, validation_data, shuffle, class_weight, sample_weight, initial_epoch, steps_per_epoch, validation_steps, **kwargs)\u001B[0m\n\u001B[0;32m   1635\u001B[0m             \u001B[0msample_weight\u001B[0m\u001B[1;33m=\u001B[0m\u001B[0msample_weight\u001B[0m\u001B[1;33m,\u001B[0m\u001B[1;33m\u001B[0m\u001B[1;33m\u001B[0m\u001B[0m\n\u001B[0;32m   1636\u001B[0m             \u001B[0mclass_weight\u001B[0m\u001B[1;33m=\u001B[0m\u001B[0mclass_weight\u001B[0m\u001B[1;33m,\u001B[0m\u001B[1;33m\u001B[0m\u001B[1;33m\u001B[0m\u001B[0m\n\u001B[1;32m-> 1637\u001B[1;33m             batch_size=batch_size)\n\u001B[0m\u001B[0;32m   1638\u001B[0m         \u001B[1;31m# Prepare validation data.\u001B[0m\u001B[1;33m\u001B[0m\u001B[1;33m\u001B[0m\u001B[1;33m\u001B[0m\u001B[0m\n\u001B[0;32m   1639\u001B[0m         \u001B[0mdo_validation\u001B[0m \u001B[1;33m=\u001B[0m \u001B[1;32mFalse\u001B[0m\u001B[1;33m\u001B[0m\u001B[1;33m\u001B[0m\u001B[0m\n",
      "\u001B[1;32m~\\anaconda3\\envs\\TF-1-15-GPU\\lib\\site-packages\\keras\\engine\\training.py\u001B[0m in \u001B[0;36m_standardize_user_data\u001B[1;34m(self, x, y, sample_weight, class_weight, check_array_lengths, batch_size)\u001B[0m\n\u001B[0;32m   1485\u001B[0m                                     \u001B[0moutput_shapes\u001B[0m\u001B[1;33m,\u001B[0m\u001B[1;33m\u001B[0m\u001B[1;33m\u001B[0m\u001B[0m\n\u001B[0;32m   1486\u001B[0m                                     \u001B[0mcheck_batch_axis\u001B[0m\u001B[1;33m=\u001B[0m\u001B[1;32mFalse\u001B[0m\u001B[1;33m,\u001B[0m\u001B[1;33m\u001B[0m\u001B[1;33m\u001B[0m\u001B[0m\n\u001B[1;32m-> 1487\u001B[1;33m                                     exception_prefix='target')\n\u001B[0m\u001B[0;32m   1488\u001B[0m         sample_weights = _standardize_sample_weights(sample_weight,\n\u001B[0;32m   1489\u001B[0m                                                      self._feed_output_names)\n",
      "\u001B[1;32m~\\anaconda3\\envs\\TF-1-15-GPU\\lib\\site-packages\\keras\\engine\\training.py\u001B[0m in \u001B[0;36m_standardize_input_data\u001B[1;34m(data, names, shapes, check_batch_axis, exception_prefix)\u001B[0m\n\u001B[0;32m    121\u001B[0m                             \u001B[1;34m': expected '\u001B[0m \u001B[1;33m+\u001B[0m \u001B[0mnames\u001B[0m\u001B[1;33m[\u001B[0m\u001B[0mi\u001B[0m\u001B[1;33m]\u001B[0m \u001B[1;33m+\u001B[0m \u001B[1;34m' to have shape '\u001B[0m \u001B[1;33m+\u001B[0m\u001B[1;33m\u001B[0m\u001B[1;33m\u001B[0m\u001B[0m\n\u001B[0;32m    122\u001B[0m                             \u001B[0mstr\u001B[0m\u001B[1;33m(\u001B[0m\u001B[0mshape\u001B[0m\u001B[1;33m)\u001B[0m \u001B[1;33m+\u001B[0m \u001B[1;34m' but got array with shape '\u001B[0m \u001B[1;33m+\u001B[0m\u001B[1;33m\u001B[0m\u001B[1;33m\u001B[0m\u001B[0m\n\u001B[1;32m--> 123\u001B[1;33m                             str(data_shape))\n\u001B[0m\u001B[0;32m    124\u001B[0m     \u001B[1;32mreturn\u001B[0m \u001B[0mdata\u001B[0m\u001B[1;33m\u001B[0m\u001B[1;33m\u001B[0m\u001B[0m\n\u001B[0;32m    125\u001B[0m \u001B[1;33m\u001B[0m\u001B[0m\n",
      "\u001B[1;31mValueError\u001B[0m: Error when checking target: expected dense_2 to have shape (2,) but got array with shape (1,)"
     ]
    }
   ],
   "source": [
    "# 創建一個早停法的回調函數\n",
    "# early_stopping = EarlyStopping(monitor='val_loss', patience=30, restore_best_weights=True)\n",
    "early_stopping = EarlyStopping(monitor='val_acc', patience=50, restore_best_weights=True)\n",
    "\n",
    "train_history=model.fit(x=train_value_4D,\n",
    "                        y=train_label_OneHot,\n",
    "                        validation_split=0.2,\n",
    "                        epochs=200,\n",
    "                        batch_size=200,\n",
    "                        verbose=2,\n",
    "                        callbacks=[early_stopping])\n",
    "                        # )"
   ]
  },
  {
   "cell_type": "code",
   "execution_count": null,
   "id": "liberal-johnston",
   "metadata": {},
   "outputs": [],
   "source": [
    "now_str = datetime.datetime.now()\n",
    "now_str = datetime.datetime.strftime(now_str, '%Y%m%d_%H%M%S')\n",
    "\n",
    "def show_train_history(train_history, train, validation):\n",
    "    # 定義show_train_history函數，輸入下列參數:之前訓練過程所產生的train_history、\n",
    "    # ...訓練資料的執行結果、驗證資料的執行結果\n",
    "    print(train_history.history)\n",
    "    plt.style.use('default')\n",
    "    plt.plot(train_history.history[train])\n",
    "    plt.plot(train_history.history[validation])\n",
    "    plt.title('Train_History')  # 顯示圖的標題\n",
    "    plt.ylabel(train)  # 顯示y軸的標籤\n",
    "    plt.xlabel('Epoch')  # 設定x軸標籤是'Epoch'\n",
    "    plt.legend(['train', 'validation'], loc='best')\n",
    "    # 設定國例是顯示'train', 'validation',位置在左上角\n",
    "\n",
    "    train_history_path = os.path.join(now_path, 'train_history', Tr_ver)\n",
    "    os.makedirs(train_history_path, exist_ok=True)\n",
    "\n",
    "    plt.savefig(os.path.join(train_history_path, now_str + '_' + train + '.png'), bbox_inches='tight', pad_inches=0)\n",
    "\n",
    "    plt.show()\n",
    "\n",
    "show_train_history(train_history, 'loss', 'val_loss')\n",
    "show_train_history(train_history, 'acc', 'val_acc')\n",
    "# show_train_history(train_history, 'accuracy', 'val_accuracy')"
   ]
  },
  {
   "cell_type": "code",
   "execution_count": null,
   "id": "surgical-spare",
   "metadata": {},
   "outputs": [],
   "source": [
    "scores = model.evaluate(test_value_4D, test_label_OneHot)\n",
    "print('loss=', scores[0], '\\nacc=', scores[1])\n",
    "\n",
    "f = open(os.path.join(now_path, 'train_history', 'train_history.txt'), 'r+')  # a+\n",
    "\n",
    "content = f.read()\n",
    "f.seek(0, 0)\n",
    "\n",
    "f.write('\\n' + '---------------------------------' + '\\n')\n",
    "f.write('\\n' + '*****' + Tr_ver + '*****' + '\\n')\n",
    "f.write(now_str + '\\n')\n",
    "f.write('loss=' + '\\n' + str(scores[0]) + '\\n')\n",
    "f.write('acc=' + '\\n' + str(scores[1]))\n",
    "\n",
    "f.write('\\n' + content)\n",
    "f.close()"
   ]
  },
  {
   "cell_type": "code",
   "execution_count": null,
   "id": "still-demonstration",
   "metadata": {},
   "outputs": [],
   "source": [
    "# 使用pd.crosstab建立混淆矩陣，輸入下列參數:\n",
    "prediction = model.predict_classes(test_value_4D)\n",
    "pd.crosstab(test_label,  # 測試資料數字影像的其實值\n",
    "            prediction,  # 測試資料數字影像的預測結果\n",
    "            rownames=['label'],  # 設定行的名稱是label\n",
    "            colnames=['predict'])  # 設定列的名稱是predict"
   ]
  },
  {
   "cell_type": "code",
   "execution_count": null,
   "id": "several-jonathan",
   "metadata": {},
   "outputs": [],
   "source": [
    "MWpath = os.path.join(now_path, '..\\..', 'model_weight')\n",
    "os.makedirs(MWpath, exist_ok=True)\n",
    "Wver = now_path.split('\\\\')[-1]\n",
    "model.save(os.path.join(MWpath, Tr_ver + 'SoundWeight_' + Wver + '_type2.h5'))\n"
   ]
  }
 ],
 "metadata": {
  "kernelspec": {
   "display_name": "Python 3 (ipykernel)",
   "language": "python",
   "name": "python3"
  },
  "language_info": {
   "codemirror_mode": {
    "name": "ipython",
    "version": 3
   },
   "file_extension": ".py",
   "mimetype": "text/x-python",
   "name": "python",
   "nbconvert_exporter": "python",
   "pygments_lexer": "ipython3",
   "version": "3.7.7"
  },
  "vscode": {
   "interpreter": {
    "hash": "47d5057580111cd46847ead863eb754cb276733747a1739a143df963cdaaba35"
   }
  }
 },
 "nbformat": 4,
 "nbformat_minor": 5
}